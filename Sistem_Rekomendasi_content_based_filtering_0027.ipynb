{
  "cells": [
    {
      "cell_type": "markdown",
      "metadata": {
        "id": "view-in-github",
        "colab_type": "text"
      },
      "source": [
        "<a href=\"https://colab.research.google.com/github/mabidnadzif/sistem-rekomendasi/blob/main/Sistem_Rekomendasi_content_based_filtering_0027.ipynb\" target=\"_parent\"><img src=\"https://colab.research.google.com/assets/colab-badge.svg\" alt=\"Open In Colab\"/></a>"
      ]
    },
    {
      "cell_type": "markdown",
      "metadata": {
        "id": "C5S6Edrm32az"
      },
      "source": [
        "# Content Based Filtering : Rekomendasi Modul Pembelajaran Dari Program Magang Dan Studi Independen Kampus Merdeka"
      ]
    },
    {
      "cell_type": "code",
      "execution_count": 1,
      "metadata": {
        "id": "CQTYgDVB32bA",
        "outputId": "b5c6da87-2d35-42be-be97-7c83bf472831",
        "colab": {
          "base_uri": "https://localhost:8080/",
          "height": 206
        }
      },
      "outputs": [
        {
          "output_type": "execute_result",
          "data": {
            "text/plain": [
              "                                               Mitra  \\\n",
              "0                               Mukhamad Abid Nadzif   \n",
              "1  PT Panji Edukasi Nusantara Apple Developer Aca...   \n",
              "2                       PT Nurul Fikri Cipta Inovasi   \n",
              "3                  PT Hacktivate Teknologi Indonesia   \n",
              "4                         PT Orbit Ventura Indonesia   \n",
              "\n",
              "                                              Alamat  \\\n",
              "0  Ds. Tosari, Rt. 01 Rw.05, Kec. Brangsong, Kab....   \n",
              "1  Apple Developer Academy @ UC Universitas Ciput...   \n",
              "2  Jl. Situ Indah No.116 RT. 006 RW. 010 Kel. Tug...   \n",
              "3  Gedung Aquarius Lt. 1&2, Jl. Sultan Iskandar M...   \n",
              "4  Veteran RI Building 15th Floor Unit Z15-002, P...   \n",
              "\n",
              "                                               Modul  \n",
              "0  Implementasi Basis Data Web Service Sistem Bas...  \n",
              "1  Subject Strands  The subject strands represent...  \n",
              "2  Desain Web Version Control System (VCS) Git/Gi...  \n",
              "3  Memahami serta mengimplementasikan library hin...  \n",
              "4  Artificial Intelligence Machine Learning  Deep...  "
            ],
            "text/html": [
              "\n",
              "  <div id=\"df-18516628-2df2-4cb1-94a4-a7a93d725dde\">\n",
              "    <div class=\"colab-df-container\">\n",
              "      <div>\n",
              "<style scoped>\n",
              "    .dataframe tbody tr th:only-of-type {\n",
              "        vertical-align: middle;\n",
              "    }\n",
              "\n",
              "    .dataframe tbody tr th {\n",
              "        vertical-align: top;\n",
              "    }\n",
              "\n",
              "    .dataframe thead th {\n",
              "        text-align: right;\n",
              "    }\n",
              "</style>\n",
              "<table border=\"1\" class=\"dataframe\">\n",
              "  <thead>\n",
              "    <tr style=\"text-align: right;\">\n",
              "      <th></th>\n",
              "      <th>Mitra</th>\n",
              "      <th>Alamat</th>\n",
              "      <th>Modul</th>\n",
              "    </tr>\n",
              "  </thead>\n",
              "  <tbody>\n",
              "    <tr>\n",
              "      <th>0</th>\n",
              "      <td>Mukhamad Abid Nadzif</td>\n",
              "      <td>Ds. Tosari, Rt. 01 Rw.05, Kec. Brangsong, Kab....</td>\n",
              "      <td>Implementasi Basis Data Web Service Sistem Bas...</td>\n",
              "    </tr>\n",
              "    <tr>\n",
              "      <th>1</th>\n",
              "      <td>PT Panji Edukasi Nusantara Apple Developer Aca...</td>\n",
              "      <td>Apple Developer Academy @ UC Universitas Ciput...</td>\n",
              "      <td>Subject Strands  The subject strands represent...</td>\n",
              "    </tr>\n",
              "    <tr>\n",
              "      <th>2</th>\n",
              "      <td>PT Nurul Fikri Cipta Inovasi</td>\n",
              "      <td>Jl. Situ Indah No.116 RT. 006 RW. 010 Kel. Tug...</td>\n",
              "      <td>Desain Web Version Control System (VCS) Git/Gi...</td>\n",
              "    </tr>\n",
              "    <tr>\n",
              "      <th>3</th>\n",
              "      <td>PT Hacktivate Teknologi Indonesia</td>\n",
              "      <td>Gedung Aquarius Lt. 1&amp;2, Jl. Sultan Iskandar M...</td>\n",
              "      <td>Memahami serta mengimplementasikan library hin...</td>\n",
              "    </tr>\n",
              "    <tr>\n",
              "      <th>4</th>\n",
              "      <td>PT Orbit Ventura Indonesia</td>\n",
              "      <td>Veteran RI Building 15th Floor Unit Z15-002, P...</td>\n",
              "      <td>Artificial Intelligence Machine Learning  Deep...</td>\n",
              "    </tr>\n",
              "  </tbody>\n",
              "</table>\n",
              "</div>\n",
              "      <button class=\"colab-df-convert\" onclick=\"convertToInteractive('df-18516628-2df2-4cb1-94a4-a7a93d725dde')\"\n",
              "              title=\"Convert this dataframe to an interactive table.\"\n",
              "              style=\"display:none;\">\n",
              "        \n",
              "  <svg xmlns=\"http://www.w3.org/2000/svg\" height=\"24px\"viewBox=\"0 0 24 24\"\n",
              "       width=\"24px\">\n",
              "    <path d=\"M0 0h24v24H0V0z\" fill=\"none\"/>\n",
              "    <path d=\"M18.56 5.44l.94 2.06.94-2.06 2.06-.94-2.06-.94-.94-2.06-.94 2.06-2.06.94zm-11 1L8.5 8.5l.94-2.06 2.06-.94-2.06-.94L8.5 2.5l-.94 2.06-2.06.94zm10 10l.94 2.06.94-2.06 2.06-.94-2.06-.94-.94-2.06-.94 2.06-2.06.94z\"/><path d=\"M17.41 7.96l-1.37-1.37c-.4-.4-.92-.59-1.43-.59-.52 0-1.04.2-1.43.59L10.3 9.45l-7.72 7.72c-.78.78-.78 2.05 0 2.83L4 21.41c.39.39.9.59 1.41.59.51 0 1.02-.2 1.41-.59l7.78-7.78 2.81-2.81c.8-.78.8-2.07 0-2.86zM5.41 20L4 18.59l7.72-7.72 1.47 1.35L5.41 20z\"/>\n",
              "  </svg>\n",
              "      </button>\n",
              "      \n",
              "  <style>\n",
              "    .colab-df-container {\n",
              "      display:flex;\n",
              "      flex-wrap:wrap;\n",
              "      gap: 12px;\n",
              "    }\n",
              "\n",
              "    .colab-df-convert {\n",
              "      background-color: #E8F0FE;\n",
              "      border: none;\n",
              "      border-radius: 50%;\n",
              "      cursor: pointer;\n",
              "      display: none;\n",
              "      fill: #1967D2;\n",
              "      height: 32px;\n",
              "      padding: 0 0 0 0;\n",
              "      width: 32px;\n",
              "    }\n",
              "\n",
              "    .colab-df-convert:hover {\n",
              "      background-color: #E2EBFA;\n",
              "      box-shadow: 0px 1px 2px rgba(60, 64, 67, 0.3), 0px 1px 3px 1px rgba(60, 64, 67, 0.15);\n",
              "      fill: #174EA6;\n",
              "    }\n",
              "\n",
              "    [theme=dark] .colab-df-convert {\n",
              "      background-color: #3B4455;\n",
              "      fill: #D2E3FC;\n",
              "    }\n",
              "\n",
              "    [theme=dark] .colab-df-convert:hover {\n",
              "      background-color: #434B5C;\n",
              "      box-shadow: 0px 1px 3px 1px rgba(0, 0, 0, 0.15);\n",
              "      filter: drop-shadow(0px 1px 2px rgba(0, 0, 0, 0.3));\n",
              "      fill: #FFFFFF;\n",
              "    }\n",
              "  </style>\n",
              "\n",
              "      <script>\n",
              "        const buttonEl =\n",
              "          document.querySelector('#df-18516628-2df2-4cb1-94a4-a7a93d725dde button.colab-df-convert');\n",
              "        buttonEl.style.display =\n",
              "          google.colab.kernel.accessAllowed ? 'block' : 'none';\n",
              "\n",
              "        async function convertToInteractive(key) {\n",
              "          const element = document.querySelector('#df-18516628-2df2-4cb1-94a4-a7a93d725dde');\n",
              "          const dataTable =\n",
              "            await google.colab.kernel.invokeFunction('convertToInteractive',\n",
              "                                                     [key], {});\n",
              "          if (!dataTable) return;\n",
              "\n",
              "          const docLinkHtml = 'Like what you see? Visit the ' +\n",
              "            '<a target=\"_blank\" href=https://colab.research.google.com/notebooks/data_table.ipynb>data table notebook</a>'\n",
              "            + ' to learn more about interactive tables.';\n",
              "          element.innerHTML = '';\n",
              "          dataTable['output_type'] = 'display_data';\n",
              "          await google.colab.output.renderOutput(dataTable, element);\n",
              "          const docLink = document.createElement('div');\n",
              "          docLink.innerHTML = docLinkHtml;\n",
              "          element.appendChild(docLink);\n",
              "        }\n",
              "      </script>\n",
              "    </div>\n",
              "  </div>\n",
              "  "
            ]
          },
          "metadata": {},
          "execution_count": 1
        }
      ],
      "source": [
        "import pandas as pd\n",
        "import numpy as np\n",
        "from sklearn.metrics.pairwise import cosine_similarity\n",
        "from sklearn.feature_extraction.text import TfidfVectorizer\n",
        "from nltk.corpus import stopwords\n",
        "import re\n",
        "import random\n",
        "\n",
        "df = pd.read_csv(\"https://raw.githubusercontent.com/mabidnadzif/sistem-rekomendasi/main/dataperusahaan-0027.csv\")\n",
        "df.head()"
      ]
    },
    {
      "cell_type": "markdown",
      "metadata": {
        "id": "IWDjJ4eE32bJ"
      },
      "source": [
        "## 1. Ikhtisar"
      ]
    },
    {
      "cell_type": "code",
      "execution_count": 2,
      "metadata": {
        "id": "z7pBCYcs32bL",
        "outputId": "d6aaff54-8168-40f0-c4a1-867fe0c2110a",
        "colab": {
          "base_uri": "https://localhost:8080/",
          "height": 175
        }
      },
      "outputs": [
        {
          "output_type": "execute_result",
          "data": {
            "text/plain": [
              "                       Mitra  \\\n",
              "count                     12   \n",
              "unique                    12   \n",
              "top     Mukhamad Abid Nadzif   \n",
              "freq                       1   \n",
              "\n",
              "                                                   Alamat  \\\n",
              "count                                                  12   \n",
              "unique                                                 12   \n",
              "top     Ds. Tosari, Rt. 01 Rw.05, Kec. Brangsong, Kab....   \n",
              "freq                                                    1   \n",
              "\n",
              "                                                    Modul  \n",
              "count                                                  12  \n",
              "unique                                                 12  \n",
              "top     Implementasi Basis Data Web Service Sistem Bas...  \n",
              "freq                                                    1  "
            ],
            "text/html": [
              "\n",
              "  <div id=\"df-eca23d58-f89e-4529-be5b-98404f3a949a\">\n",
              "    <div class=\"colab-df-container\">\n",
              "      <div>\n",
              "<style scoped>\n",
              "    .dataframe tbody tr th:only-of-type {\n",
              "        vertical-align: middle;\n",
              "    }\n",
              "\n",
              "    .dataframe tbody tr th {\n",
              "        vertical-align: top;\n",
              "    }\n",
              "\n",
              "    .dataframe thead th {\n",
              "        text-align: right;\n",
              "    }\n",
              "</style>\n",
              "<table border=\"1\" class=\"dataframe\">\n",
              "  <thead>\n",
              "    <tr style=\"text-align: right;\">\n",
              "      <th></th>\n",
              "      <th>Mitra</th>\n",
              "      <th>Alamat</th>\n",
              "      <th>Modul</th>\n",
              "    </tr>\n",
              "  </thead>\n",
              "  <tbody>\n",
              "    <tr>\n",
              "      <th>count</th>\n",
              "      <td>12</td>\n",
              "      <td>12</td>\n",
              "      <td>12</td>\n",
              "    </tr>\n",
              "    <tr>\n",
              "      <th>unique</th>\n",
              "      <td>12</td>\n",
              "      <td>12</td>\n",
              "      <td>12</td>\n",
              "    </tr>\n",
              "    <tr>\n",
              "      <th>top</th>\n",
              "      <td>Mukhamad Abid Nadzif</td>\n",
              "      <td>Ds. Tosari, Rt. 01 Rw.05, Kec. Brangsong, Kab....</td>\n",
              "      <td>Implementasi Basis Data Web Service Sistem Bas...</td>\n",
              "    </tr>\n",
              "    <tr>\n",
              "      <th>freq</th>\n",
              "      <td>1</td>\n",
              "      <td>1</td>\n",
              "      <td>1</td>\n",
              "    </tr>\n",
              "  </tbody>\n",
              "</table>\n",
              "</div>\n",
              "      <button class=\"colab-df-convert\" onclick=\"convertToInteractive('df-eca23d58-f89e-4529-be5b-98404f3a949a')\"\n",
              "              title=\"Convert this dataframe to an interactive table.\"\n",
              "              style=\"display:none;\">\n",
              "        \n",
              "  <svg xmlns=\"http://www.w3.org/2000/svg\" height=\"24px\"viewBox=\"0 0 24 24\"\n",
              "       width=\"24px\">\n",
              "    <path d=\"M0 0h24v24H0V0z\" fill=\"none\"/>\n",
              "    <path d=\"M18.56 5.44l.94 2.06.94-2.06 2.06-.94-2.06-.94-.94-2.06-.94 2.06-2.06.94zm-11 1L8.5 8.5l.94-2.06 2.06-.94-2.06-.94L8.5 2.5l-.94 2.06-2.06.94zm10 10l.94 2.06.94-2.06 2.06-.94-2.06-.94-.94-2.06-.94 2.06-2.06.94z\"/><path d=\"M17.41 7.96l-1.37-1.37c-.4-.4-.92-.59-1.43-.59-.52 0-1.04.2-1.43.59L10.3 9.45l-7.72 7.72c-.78.78-.78 2.05 0 2.83L4 21.41c.39.39.9.59 1.41.59.51 0 1.02-.2 1.41-.59l7.78-7.78 2.81-2.81c.8-.78.8-2.07 0-2.86zM5.41 20L4 18.59l7.72-7.72 1.47 1.35L5.41 20z\"/>\n",
              "  </svg>\n",
              "      </button>\n",
              "      \n",
              "  <style>\n",
              "    .colab-df-container {\n",
              "      display:flex;\n",
              "      flex-wrap:wrap;\n",
              "      gap: 12px;\n",
              "    }\n",
              "\n",
              "    .colab-df-convert {\n",
              "      background-color: #E8F0FE;\n",
              "      border: none;\n",
              "      border-radius: 50%;\n",
              "      cursor: pointer;\n",
              "      display: none;\n",
              "      fill: #1967D2;\n",
              "      height: 32px;\n",
              "      padding: 0 0 0 0;\n",
              "      width: 32px;\n",
              "    }\n",
              "\n",
              "    .colab-df-convert:hover {\n",
              "      background-color: #E2EBFA;\n",
              "      box-shadow: 0px 1px 2px rgba(60, 64, 67, 0.3), 0px 1px 3px 1px rgba(60, 64, 67, 0.15);\n",
              "      fill: #174EA6;\n",
              "    }\n",
              "\n",
              "    [theme=dark] .colab-df-convert {\n",
              "      background-color: #3B4455;\n",
              "      fill: #D2E3FC;\n",
              "    }\n",
              "\n",
              "    [theme=dark] .colab-df-convert:hover {\n",
              "      background-color: #434B5C;\n",
              "      box-shadow: 0px 1px 3px 1px rgba(0, 0, 0, 0.15);\n",
              "      filter: drop-shadow(0px 1px 2px rgba(0, 0, 0, 0.3));\n",
              "      fill: #FFFFFF;\n",
              "    }\n",
              "  </style>\n",
              "\n",
              "      <script>\n",
              "        const buttonEl =\n",
              "          document.querySelector('#df-eca23d58-f89e-4529-be5b-98404f3a949a button.colab-df-convert');\n",
              "        buttonEl.style.display =\n",
              "          google.colab.kernel.accessAllowed ? 'block' : 'none';\n",
              "\n",
              "        async function convertToInteractive(key) {\n",
              "          const element = document.querySelector('#df-eca23d58-f89e-4529-be5b-98404f3a949a');\n",
              "          const dataTable =\n",
              "            await google.colab.kernel.invokeFunction('convertToInteractive',\n",
              "                                                     [key], {});\n",
              "          if (!dataTable) return;\n",
              "\n",
              "          const docLinkHtml = 'Like what you see? Visit the ' +\n",
              "            '<a target=\"_blank\" href=https://colab.research.google.com/notebooks/data_table.ipynb>data table notebook</a>'\n",
              "            + ' to learn more about interactive tables.';\n",
              "          element.innerHTML = '';\n",
              "          dataTable['output_type'] = 'display_data';\n",
              "          await google.colab.output.renderOutput(dataTable, element);\n",
              "          const docLink = document.createElement('div');\n",
              "          docLink.innerHTML = docLinkHtml;\n",
              "          element.appendChild(docLink);\n",
              "        }\n",
              "      </script>\n",
              "    </div>\n",
              "  </div>\n",
              "  "
            ]
          },
          "metadata": {},
          "execution_count": 2
        }
      ],
      "source": [
        "df.describe()"
      ]
    },
    {
      "cell_type": "code",
      "execution_count": 3,
      "metadata": {
        "id": "oL9tFlqN32bN",
        "outputId": "dcab63b9-34ee-4b06-f7c7-6ebb8f93b523",
        "colab": {
          "base_uri": "https://localhost:8080/"
        }
      },
      "outputs": [
        {
          "output_type": "stream",
          "name": "stdout",
          "text": [
            "<class 'pandas.core.frame.DataFrame'>\n",
            "RangeIndex: 12 entries, 0 to 11\n",
            "Data columns (total 3 columns):\n",
            " #   Column  Non-Null Count  Dtype \n",
            "---  ------  --------------  ----- \n",
            " 0   Mitra   12 non-null     object\n",
            " 1   Alamat  12 non-null     object\n",
            " 2   Modul   12 non-null     object\n",
            "dtypes: object(3)\n",
            "memory usage: 416.0+ bytes\n"
          ]
        }
      ],
      "source": [
        "df.info()"
      ]
    },
    {
      "cell_type": "markdown",
      "metadata": {
        "id": "BGMxSgpx32bP"
      },
      "source": [
        "## 2. Tampilan Modul Pembelajaran (Sebelum Preprocessing)"
      ]
    },
    {
      "cell_type": "code",
      "execution_count": 4,
      "metadata": {
        "id": "-IvjAXg532bR"
      },
      "outputs": [],
      "source": [
        "def print_description(index):\n",
        "    example = df[df.index == index][['Modul', 'Mitra','Alamat']].values[0]\n",
        "    if len(example) > 0:\n",
        "        print(example[0])\n",
        "        print('Mitra:', example[1])\n",
        "        print('Alamat:', example[2])"
      ]
    },
    {
      "cell_type": "code",
      "execution_count": 5,
      "metadata": {
        "id": "Jjz6KQFT32bT",
        "outputId": "189d940f-21b7-46c9-b8a6-024921cc4610",
        "colab": {
          "base_uri": "https://localhost:8080/"
        }
      },
      "outputs": [
        {
          "output_type": "stream",
          "name": "stdout",
          "text": [
            "Subject Strands  The subject strands represent categories of content the learners experience during the learning journey  Technical  Logic and Programming Interfaces Development Developer Tools Media Animation and Games Operating Systems Platform Functionalities and Supporting Frameworks  Design  Accessibility Branding Design Fundamentals HIG Basic Concepts Prototyping User-Centered Design Game Design and art direction and HIG Advanced Concepts  Process  CBL Engage CBL Investigate CBL Act CBL Supporting Activities Project Management and Scrum  Business and Marketing  App Business App Marketing Entrepreneurship Legal Guidelines Store Guidelines Store Presence and User Engagement  Professional Skills Collaboration Communication Storytelling Presentations Creative Workflow Employability Personal Growth \n",
            "Mitra: PT Panji Edukasi Nusantara Apple Developer Academy \n",
            "Alamat: Apple Developer Academy @ UC Universitas Ciputra, Citraland, Made, Sambikerep,Surabaya, 60219\n"
          ]
        }
      ],
      "source": [
        "print_description(1)"
      ]
    },
    {
      "cell_type": "code",
      "execution_count": 9,
      "metadata": {
        "id": "AtOC-O4z32bV",
        "outputId": "d8481c17-c976-4c79-df5b-33cb4b9a803b",
        "colab": {
          "base_uri": "https://localhost:8080/"
        }
      },
      "outputs": [
        {
          "output_type": "stream",
          "name": "stdout",
          "text": [
            "Framework & Desain Pattern Application Programming Interface Reporting & Documentation Dasar-dasar Pemrograman Web Database & Penerapan Model Source code & Task Management Managemen View & Controller Team Collaboration\n",
            "Mitra: PT Indi Teknokreasi Internasional\n",
            "Alamat: Graha INDI, Jalan Pahlawan Revolusi No 1, Lt4 RT.06, RT.11/RW.7, Pd. Bambu, Kec. Duren Sawit, Kota Jakarta Timur, Daerah Khusus Ibukota Jakarta 13430\n"
          ]
        }
      ],
      "source": [
        "print_description(11)"
      ]
    },
    {
      "cell_type": "code",
      "execution_count": 10,
      "metadata": {
        "id": "SheyCcRh32bY",
        "outputId": "3a349b7f-e036-482f-a021-ca6cfe1b9b4d",
        "colab": {
          "base_uri": "https://localhost:8080/"
        }
      },
      "outputs": [
        {
          "output_type": "stream",
          "name": "stdout",
          "text": [
            "Implementasi Basis Data Web Service Sistem Basis Data Pemrograman Web Jaringan Komputer Sistem Operasi Pemrograman Aplikasi Mobile Text Mining \n",
            "Mitra: Mukhamad Abid Nadzif\n",
            "Alamat: Ds. Tosari, Rt. 01 Rw.05, Kec. Brangsong, Kab. Kendal\n"
          ]
        }
      ],
      "source": [
        "print_description(0)"
      ]
    },
    {
      "cell_type": "markdown",
      "metadata": {
        "id": "okT9miie32bb"
      },
      "source": [
        "## 3. Text Preprocessing"
      ]
    },
    {
      "cell_type": "code",
      "source": [
        "import nltk\n",
        "nltk.download('stopwords')\n",
        "clean_spcl = re.compile('[/(){}\\[\\]\\|@,;]')\n",
        "clean_symbol = re.compile('[^0-9a-z #+_]')\n",
        "#stopworda = set(stopwords.words('english'))\n",
        "\n",
        "def clean_text(text):\n",
        "    \"\"\"\n",
        "        text: a string\n",
        "        \n",
        "        return: modified initial string\n",
        "    \"\"\"\n",
        "    text = text.lower() # lowercase text\n",
        "    text = clean_spcl.sub(' ', text)\n",
        "    text = clean_symbol.sub('', text)\n",
        "    #text = ' '.join(word for word in text.split() if word not in stopworda) # hapus stopword dari kolom deskripsi\n",
        "    return text\n",
        "    \n",
        "df['modul_pembelajaran_clean'] = df['Modul'].apply(clean_text)"
      ],
      "metadata": {
        "colab": {
          "base_uri": "https://localhost:8080/"
        },
        "id": "2sZhO5YF6Qn7",
        "outputId": "c65fe1ee-ab27-45c5-fbe7-173b1fc4ba66"
      },
      "execution_count": 14,
      "outputs": [
        {
          "output_type": "stream",
          "name": "stderr",
          "text": [
            "[nltk_data] Downloading package stopwords to /root/nltk_data...\n",
            "[nltk_data]   Package stopwords is already up-to-date!\n"
          ]
        }
      ]
    },
    {
      "cell_type": "code",
      "execution_count": 15,
      "metadata": {
        "id": "B2uXpInK32bf",
        "outputId": "476a30d9-0023-4985-f4d2-9e2cc2c58fc3",
        "colab": {
          "base_uri": "https://localhost:8080/",
          "height": 250
        }
      },
      "outputs": [
        {
          "output_type": "execute_result",
          "data": {
            "text/plain": [
              "                                               Mitra  \\\n",
              "0                               Mukhamad Abid Nadzif   \n",
              "1  PT Panji Edukasi Nusantara Apple Developer Aca...   \n",
              "2                       PT Nurul Fikri Cipta Inovasi   \n",
              "3                  PT Hacktivate Teknologi Indonesia   \n",
              "4                         PT Orbit Ventura Indonesia   \n",
              "\n",
              "                                              Alamat  \\\n",
              "0  Ds. Tosari, Rt. 01 Rw.05, Kec. Brangsong, Kab....   \n",
              "1  Apple Developer Academy @ UC Universitas Ciput...   \n",
              "2  Jl. Situ Indah No.116 RT. 006 RW. 010 Kel. Tug...   \n",
              "3  Gedung Aquarius Lt. 1&2, Jl. Sultan Iskandar M...   \n",
              "4  Veteran RI Building 15th Floor Unit Z15-002, P...   \n",
              "\n",
              "                                               Modul  \\\n",
              "0  Implementasi Basis Data Web Service Sistem Bas...   \n",
              "1  Subject Strands  The subject strands represent...   \n",
              "2  Desain Web Version Control System (VCS) Git/Gi...   \n",
              "3  Memahami serta mengimplementasikan library hin...   \n",
              "4  Artificial Intelligence Machine Learning  Deep...   \n",
              "\n",
              "                            modul_pembelajaran_clean  \n",
              "0  implementasi basis data web service sistem bas...  \n",
              "1  subject strands  the subject strands represent...  \n",
              "2  desain web version control system  vcs  git gi...  \n",
              "3  memahami serta mengimplementasikan library hin...  \n",
              "4  artificial intelligence machine learning  deep...  "
            ],
            "text/html": [
              "\n",
              "  <div id=\"df-20a22ba0-92af-4abc-ace0-3b9424a529a9\">\n",
              "    <div class=\"colab-df-container\">\n",
              "      <div>\n",
              "<style scoped>\n",
              "    .dataframe tbody tr th:only-of-type {\n",
              "        vertical-align: middle;\n",
              "    }\n",
              "\n",
              "    .dataframe tbody tr th {\n",
              "        vertical-align: top;\n",
              "    }\n",
              "\n",
              "    .dataframe thead th {\n",
              "        text-align: right;\n",
              "    }\n",
              "</style>\n",
              "<table border=\"1\" class=\"dataframe\">\n",
              "  <thead>\n",
              "    <tr style=\"text-align: right;\">\n",
              "      <th></th>\n",
              "      <th>Mitra</th>\n",
              "      <th>Alamat</th>\n",
              "      <th>Modul</th>\n",
              "      <th>modul_pembelajaran_clean</th>\n",
              "    </tr>\n",
              "  </thead>\n",
              "  <tbody>\n",
              "    <tr>\n",
              "      <th>0</th>\n",
              "      <td>Mukhamad Abid Nadzif</td>\n",
              "      <td>Ds. Tosari, Rt. 01 Rw.05, Kec. Brangsong, Kab....</td>\n",
              "      <td>Implementasi Basis Data Web Service Sistem Bas...</td>\n",
              "      <td>implementasi basis data web service sistem bas...</td>\n",
              "    </tr>\n",
              "    <tr>\n",
              "      <th>1</th>\n",
              "      <td>PT Panji Edukasi Nusantara Apple Developer Aca...</td>\n",
              "      <td>Apple Developer Academy @ UC Universitas Ciput...</td>\n",
              "      <td>Subject Strands  The subject strands represent...</td>\n",
              "      <td>subject strands  the subject strands represent...</td>\n",
              "    </tr>\n",
              "    <tr>\n",
              "      <th>2</th>\n",
              "      <td>PT Nurul Fikri Cipta Inovasi</td>\n",
              "      <td>Jl. Situ Indah No.116 RT. 006 RW. 010 Kel. Tug...</td>\n",
              "      <td>Desain Web Version Control System (VCS) Git/Gi...</td>\n",
              "      <td>desain web version control system  vcs  git gi...</td>\n",
              "    </tr>\n",
              "    <tr>\n",
              "      <th>3</th>\n",
              "      <td>PT Hacktivate Teknologi Indonesia</td>\n",
              "      <td>Gedung Aquarius Lt. 1&amp;2, Jl. Sultan Iskandar M...</td>\n",
              "      <td>Memahami serta mengimplementasikan library hin...</td>\n",
              "      <td>memahami serta mengimplementasikan library hin...</td>\n",
              "    </tr>\n",
              "    <tr>\n",
              "      <th>4</th>\n",
              "      <td>PT Orbit Ventura Indonesia</td>\n",
              "      <td>Veteran RI Building 15th Floor Unit Z15-002, P...</td>\n",
              "      <td>Artificial Intelligence Machine Learning  Deep...</td>\n",
              "      <td>artificial intelligence machine learning  deep...</td>\n",
              "    </tr>\n",
              "  </tbody>\n",
              "</table>\n",
              "</div>\n",
              "      <button class=\"colab-df-convert\" onclick=\"convertToInteractive('df-20a22ba0-92af-4abc-ace0-3b9424a529a9')\"\n",
              "              title=\"Convert this dataframe to an interactive table.\"\n",
              "              style=\"display:none;\">\n",
              "        \n",
              "  <svg xmlns=\"http://www.w3.org/2000/svg\" height=\"24px\"viewBox=\"0 0 24 24\"\n",
              "       width=\"24px\">\n",
              "    <path d=\"M0 0h24v24H0V0z\" fill=\"none\"/>\n",
              "    <path d=\"M18.56 5.44l.94 2.06.94-2.06 2.06-.94-2.06-.94-.94-2.06-.94 2.06-2.06.94zm-11 1L8.5 8.5l.94-2.06 2.06-.94-2.06-.94L8.5 2.5l-.94 2.06-2.06.94zm10 10l.94 2.06.94-2.06 2.06-.94-2.06-.94-.94-2.06-.94 2.06-2.06.94z\"/><path d=\"M17.41 7.96l-1.37-1.37c-.4-.4-.92-.59-1.43-.59-.52 0-1.04.2-1.43.59L10.3 9.45l-7.72 7.72c-.78.78-.78 2.05 0 2.83L4 21.41c.39.39.9.59 1.41.59.51 0 1.02-.2 1.41-.59l7.78-7.78 2.81-2.81c.8-.78.8-2.07 0-2.86zM5.41 20L4 18.59l7.72-7.72 1.47 1.35L5.41 20z\"/>\n",
              "  </svg>\n",
              "      </button>\n",
              "      \n",
              "  <style>\n",
              "    .colab-df-container {\n",
              "      display:flex;\n",
              "      flex-wrap:wrap;\n",
              "      gap: 12px;\n",
              "    }\n",
              "\n",
              "    .colab-df-convert {\n",
              "      background-color: #E8F0FE;\n",
              "      border: none;\n",
              "      border-radius: 50%;\n",
              "      cursor: pointer;\n",
              "      display: none;\n",
              "      fill: #1967D2;\n",
              "      height: 32px;\n",
              "      padding: 0 0 0 0;\n",
              "      width: 32px;\n",
              "    }\n",
              "\n",
              "    .colab-df-convert:hover {\n",
              "      background-color: #E2EBFA;\n",
              "      box-shadow: 0px 1px 2px rgba(60, 64, 67, 0.3), 0px 1px 3px 1px rgba(60, 64, 67, 0.15);\n",
              "      fill: #174EA6;\n",
              "    }\n",
              "\n",
              "    [theme=dark] .colab-df-convert {\n",
              "      background-color: #3B4455;\n",
              "      fill: #D2E3FC;\n",
              "    }\n",
              "\n",
              "    [theme=dark] .colab-df-convert:hover {\n",
              "      background-color: #434B5C;\n",
              "      box-shadow: 0px 1px 3px 1px rgba(0, 0, 0, 0.15);\n",
              "      filter: drop-shadow(0px 1px 2px rgba(0, 0, 0, 0.3));\n",
              "      fill: #FFFFFF;\n",
              "    }\n",
              "  </style>\n",
              "\n",
              "      <script>\n",
              "        const buttonEl =\n",
              "          document.querySelector('#df-20a22ba0-92af-4abc-ace0-3b9424a529a9 button.colab-df-convert');\n",
              "        buttonEl.style.display =\n",
              "          google.colab.kernel.accessAllowed ? 'block' : 'none';\n",
              "\n",
              "        async function convertToInteractive(key) {\n",
              "          const element = document.querySelector('#df-20a22ba0-92af-4abc-ace0-3b9424a529a9');\n",
              "          const dataTable =\n",
              "            await google.colab.kernel.invokeFunction('convertToInteractive',\n",
              "                                                     [key], {});\n",
              "          if (!dataTable) return;\n",
              "\n",
              "          const docLinkHtml = 'Like what you see? Visit the ' +\n",
              "            '<a target=\"_blank\" href=https://colab.research.google.com/notebooks/data_table.ipynb>data table notebook</a>'\n",
              "            + ' to learn more about interactive tables.';\n",
              "          element.innerHTML = '';\n",
              "          dataTable['output_type'] = 'display_data';\n",
              "          await google.colab.output.renderOutput(dataTable, element);\n",
              "          const docLink = document.createElement('div');\n",
              "          docLink.innerHTML = docLinkHtml;\n",
              "          element.appendChild(docLink);\n",
              "        }\n",
              "      </script>\n",
              "    </div>\n",
              "  </div>\n",
              "  "
            ]
          },
          "metadata": {},
          "execution_count": 15
        }
      ],
      "source": [
        "df.head()"
      ]
    },
    {
      "cell_type": "markdown",
      "metadata": {
        "id": "PYglDyM432bh"
      },
      "source": [
        "## 4. Tampilan Modul Pembelajaran (Setelah Preprocessing)"
      ]
    },
    {
      "cell_type": "code",
      "execution_count": 19,
      "metadata": {
        "id": "29xA_lrv32bi"
      },
      "outputs": [],
      "source": [
        "# Deskripsi kedua (Setelah preprocessing)\n",
        "def print_description_clean(index):\n",
        "    example = df[df.index == index][['modul_pembelajaran_clean', 'Mitra','Alamat']].values[0]\n",
        "    if len(example) > 0:\n",
        "        print(example[0])\n",
        "        print('Mitra:', example[1])\n",
        "        print('Alamat:', example[2])"
      ]
    },
    {
      "cell_type": "code",
      "execution_count": 20,
      "metadata": {
        "id": "Ga4U7hER32bk",
        "outputId": "3230c046-c1b8-4337-edf8-811063fb626b",
        "colab": {
          "base_uri": "https://localhost:8080/"
        }
      },
      "outputs": [
        {
          "output_type": "stream",
          "name": "stdout",
          "text": [
            "subject strands  the subject strands represent categories of content the learners experience during the learning journey  technical  logic and programming interfaces development developer tools media animation and games operating systems platform functionalities and supporting frameworks  design  accessibility branding design fundamentals hig basic concepts prototyping usercentered design game design and art direction and hig advanced concepts  process  cbl engage cbl investigate cbl act cbl supporting activities project management and scrum  business and marketing  app business app marketing entrepreneurship legal guidelines store guidelines store presence and user engagement  professional skills collaboration communication storytelling presentations creative workflow employability personal growth \n",
            "Mitra: PT Panji Edukasi Nusantara Apple Developer Academy \n",
            "Alamat: Apple Developer Academy @ UC Universitas Ciputra, Citraland, Made, Sambikerep,Surabaya, 60219\n"
          ]
        }
      ],
      "source": [
        "print_description_clean(1)"
      ]
    },
    {
      "cell_type": "code",
      "execution_count": 21,
      "metadata": {
        "id": "TvcTeum532bm",
        "outputId": "79fbfa64-4fbb-48d7-9923-a813728a5f02",
        "colab": {
          "base_uri": "https://localhost:8080/"
        }
      },
      "outputs": [
        {
          "output_type": "stream",
          "name": "stdout",
          "text": [
            "framework  desain pattern application programming interface reporting  documentation dasardasar pemrograman web database  penerapan model source code  task management managemen view  controller team collaboration\n",
            "Mitra: PT Indi Teknokreasi Internasional\n",
            "Alamat: Graha INDI, Jalan Pahlawan Revolusi No 1, Lt4 RT.06, RT.11/RW.7, Pd. Bambu, Kec. Duren Sawit, Kota Jakarta Timur, Daerah Khusus Ibukota Jakarta 13430\n"
          ]
        }
      ],
      "source": [
        "print_description_clean(11)"
      ]
    },
    {
      "cell_type": "code",
      "execution_count": 22,
      "metadata": {
        "id": "CAuiiYHq32bt",
        "outputId": "5f22e7f7-fe29-484e-f9e7-1d837959f936",
        "colab": {
          "base_uri": "https://localhost:8080/"
        }
      },
      "outputs": [
        {
          "output_type": "stream",
          "name": "stdout",
          "text": [
            "Implementasi Basis Data Web Service Sistem Basis Data Pemrograman Web Jaringan Komputer Sistem Operasi Pemrograman Aplikasi Mobile Text Mining \n",
            "Mitra: Mukhamad Abid Nadzif\n",
            "Alamat: Ds. Tosari, Rt. 01 Rw.05, Kec. Brangsong, Kab. Kendal\n"
          ]
        }
      ],
      "source": [
        "print_description(0)"
      ]
    },
    {
      "cell_type": "markdown",
      "metadata": {
        "id": "bQIRVwyg32bv"
      },
      "source": [
        "## 5. TF-IDF & Cosine Similarity"
      ]
    },
    {
      "cell_type": "code",
      "execution_count": 23,
      "metadata": {
        "scrolled": false,
        "id": "ovYiPsUb32bx",
        "outputId": "ac794ced-50af-4d90-9a62-45de0922bf30",
        "colab": {
          "base_uri": "https://localhost:8080/"
        }
      },
      "outputs": [
        {
          "output_type": "execute_result",
          "data": {
            "text/plain": [
              "array([[1.        , 0.        , 0.04595314, 0.00486068, 0.02183745,\n",
              "        0.03870311, 0.        , 0.        , 0.        , 0.        ,\n",
              "        0.        , 0.04324668],\n",
              "       [0.        , 1.        , 0.0055064 , 0.01345864, 0.0189732 ,\n",
              "        0.00255164, 0.05616617, 0.00638687, 0.        , 0.        ,\n",
              "        0.04206856, 0.01546272],\n",
              "       [0.04595314, 0.0055064 , 1.        , 0.0119919 , 0.        ,\n",
              "        0.02959789, 0.        , 0.01360197, 0.0113211 , 0.        ,\n",
              "        0.        , 0.05526849],\n",
              "       [0.00486068, 0.01345864, 0.0119919 , 1.        , 0.        ,\n",
              "        0.0488558 , 0.00915303, 0.01586735, 0.02641321, 0.        ,\n",
              "        0.        , 0.01078151],\n",
              "       [0.02183745, 0.0189732 , 0.        , 0.        , 1.        ,\n",
              "        0.00879407, 0.        , 0.01258628, 0.01047573, 0.        ,\n",
              "        0.        , 0.        ],\n",
              "       [0.03870311, 0.00255164, 0.02959789, 0.0488558 , 0.00879407,\n",
              "        1.        , 0.        , 0.09038266, 0.02521117, 0.        ,\n",
              "        0.        , 0.0154665 ],\n",
              "       [0.        , 0.05616617, 0.        , 0.00915303, 0.        ,\n",
              "        0.        , 1.        , 0.        , 0.0615769 , 0.        ,\n",
              "        0.04354545, 0.02821719],\n",
              "       [0.        , 0.00638687, 0.01360197, 0.01586735, 0.01258628,\n",
              "        0.09038266, 0.        , 1.        , 0.0566891 , 0.        ,\n",
              "        0.        , 0.        ],\n",
              "       [0.        , 0.        , 0.0113211 , 0.02641321, 0.01047573,\n",
              "        0.02521117, 0.0615769 , 0.0566891 , 1.        , 0.        ,\n",
              "        0.        , 0.02286875],\n",
              "       [0.        , 0.        , 0.        , 0.        , 0.        ,\n",
              "        0.        , 0.        , 0.        , 0.        , 1.        ,\n",
              "        0.        , 0.        ],\n",
              "       [0.        , 0.04206856, 0.        , 0.        , 0.        ,\n",
              "        0.        , 0.04354545, 0.        , 0.        , 0.        ,\n",
              "        1.        , 0.        ],\n",
              "       [0.04324668, 0.01546272, 0.05526849, 0.01078151, 0.        ,\n",
              "        0.0154665 , 0.02821719, 0.        , 0.02286875, 0.        ,\n",
              "        0.        , 1.        ]])"
            ]
          },
          "metadata": {},
          "execution_count": 23
        }
      ],
      "source": [
        "df.set_index('Mitra', inplace=True)\n",
        "tf = TfidfVectorizer(analyzer='word', ngram_range=(1, 3), min_df=0, stop_words='english')\n",
        "tfidf_matrix = tf.fit_transform(df['modul_pembelajaran_clean'])\n",
        "cos_sim = cosine_similarity(tfidf_matrix, tfidf_matrix)\n",
        "cos_sim"
      ]
    },
    {
      "cell_type": "code",
      "execution_count": 24,
      "metadata": {
        "id": "AJ7uT1TC32b1",
        "outputId": "8cb0be4e-0f71-4b16-a87f-67e2a41ff69d",
        "colab": {
          "base_uri": "https://localhost:8080/"
        }
      },
      "outputs": [
        {
          "output_type": "execute_result",
          "data": {
            "text/plain": [
              "0                                  Mukhamad Abid Nadzif\n",
              "1     PT Panji Edukasi Nusantara Apple Developer Aca...\n",
              "2                          PT Nurul Fikri Cipta Inovasi\n",
              "3                     PT Hacktivate Teknologi Indonesia\n",
              "4                            PT Orbit Ventura Indonesia\n",
              "5                                 PT Ozami Inti Sinergi\n",
              "6                 PT. IlmuKomputerCom Braindevs Sistema\n",
              "7                              PT Home Credit Indonesia\n",
              "8                          PT BISA ARTIFISIAL INDONESIA\n",
              "9                              PT Surya Citra Media Tbk\n",
              "10                         PT Mojadi Aplikasi Indonesia\n",
              "11                    PT Indi Teknokreasi Internasional\n",
              "Name: Mitra, dtype: object"
            ]
          },
          "metadata": {},
          "execution_count": 24
        }
      ],
      "source": [
        "# Set index utama di kolom 'name'\n",
        "indices = pd.Series(df.index)\n",
        "indices[:50]"
      ]
    },
    {
      "cell_type": "markdown",
      "metadata": {
        "id": "4hngFjil32b2"
      },
      "source": [
        "## 6. Modelling"
      ]
    },
    {
      "cell_type": "code",
      "execution_count": 37,
      "metadata": {
        "id": "V2KxEf2h32b3"
      },
      "outputs": [],
      "source": [
        "def recommendations(name, cos_sim = cos_sim):\n",
        "    \n",
        "    recommended_modul = []\n",
        "    \n",
        "    # Mengambil nama modul berdasarkan variabel indicies\n",
        "    idx = indices[indices == name].index[0]\n",
        "\n",
        "    # Membuat series berdasarkan skor kesamaan\n",
        "    score_series = pd.Series(cos_sim[idx]).sort_values(ascending = False)\n",
        "\n",
        "    # mengambil index dan dibuat 3 baris rekomendasi terbaik\n",
        "    top_10_indexes = list(score_series.iloc[1:4].index)\n",
        "    \n",
        "    for i in top_10_indexes:\n",
        "        recommended_modul.append(list(df.index)[i])\n",
        "        \n",
        "    return recommended_modul"
      ]
    },
    {
      "cell_type": "markdown",
      "metadata": {
        "scrolled": false,
        "id": "vCunHa1o32b7"
      },
      "source": [
        "## 7. Prediksi"
      ]
    },
    {
      "cell_type": "code",
      "execution_count": 38,
      "metadata": {
        "id": "zgkrZYge32b9",
        "outputId": "61a770e8-89d1-4db8-d44a-d867671d4df9",
        "colab": {
          "base_uri": "https://localhost:8080/"
        }
      },
      "outputs": [
        {
          "output_type": "execute_result",
          "data": {
            "text/plain": [
              "['PT Nurul Fikri Cipta Inovasi',\n",
              " 'PT Indi Teknokreasi Internasional',\n",
              " 'PT Ozami Inti Sinergi']"
            ]
          },
          "metadata": {},
          "execution_count": 38
        }
      ],
      "source": [
        "recommendations('Mukhamad Abid Nadzif')"
      ]
    },
    {
      "cell_type": "code",
      "execution_count": 39,
      "metadata": {
        "id": "KcqcvLMX32b-",
        "outputId": "85f8c3f6-bee5-41fb-9149-9109bad7be58",
        "colab": {
          "base_uri": "https://localhost:8080/"
        }
      },
      "outputs": [
        {
          "output_type": "execute_result",
          "data": {
            "text/plain": [
              "['PT Home Credit Indonesia',\n",
              " 'PT Hacktivate Teknologi Indonesia',\n",
              " 'Mukhamad Abid Nadzif']"
            ]
          },
          "metadata": {},
          "execution_count": 39
        }
      ],
      "source": [
        "recommendations(\"PT Ozami Inti Sinergi\")"
      ]
    },
    {
      "cell_type": "code",
      "execution_count": 40,
      "metadata": {
        "id": "V_8Lf3nn32cQ",
        "outputId": "1be3f79e-4d0c-40c3-cb3e-ca8f092c4d70",
        "colab": {
          "base_uri": "https://localhost:8080/"
        }
      },
      "outputs": [
        {
          "output_type": "execute_result",
          "data": {
            "text/plain": [
              "['PT Nurul Fikri Cipta Inovasi',\n",
              " 'Mukhamad Abid Nadzif',\n",
              " 'PT. IlmuKomputerCom Braindevs Sistema']"
            ]
          },
          "metadata": {},
          "execution_count": 40
        }
      ],
      "source": [
        "recommendations(\"PT Indi Teknokreasi Internasional\")"
      ]
    },
    {
      "cell_type": "markdown",
      "metadata": {
        "id": "PLWFUoCu32cR"
      },
      "source": [
        "# Selesai..."
      ]
    }
  ],
  "metadata": {
    "kernelspec": {
      "display_name": "Python 3",
      "language": "python",
      "name": "python3"
    },
    "language_info": {
      "codemirror_mode": {
        "name": "ipython",
        "version": 3
      },
      "file_extension": ".py",
      "mimetype": "text/x-python",
      "name": "python",
      "nbconvert_exporter": "python",
      "pygments_lexer": "ipython3",
      "version": "3.7.3"
    },
    "colab": {
      "provenance": [],
      "include_colab_link": true
    }
  },
  "nbformat": 4,
  "nbformat_minor": 0
}